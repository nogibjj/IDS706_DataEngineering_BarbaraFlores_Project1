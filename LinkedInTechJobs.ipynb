{
 "cells": [
  {
   "cell_type": "markdown",
   "metadata": {},
   "source": [
    "IDS706_DataEngineering_BarbaraFlores_Project1\n",
    "## 🤖 Continuous Integration using GitHub Actions of Python Data Science Project\n",
    "\n",
    "### 🔍 Dataset: \n",
    "For this asigment, we will use the [LinkedIn Tech Jobs dataset](https://www.kaggle.com/datasets/joebeachcapital/linkedin-jobs?resource=download&select=final_data.csv) \n",
    "\n",
    "The [LinkedInTechJobsDataset.csv](LinkedInTechJobsDataset.csv) is a comprehensive collection of job listings and related information sourced from LinkedIn, one of the world's leading professional networking platforms. This dataset provides valuable insights into job opportunities, job market trends, and various attributes associated with job listings .\n"
   ]
  },
  {
   "cell_type": "code",
   "execution_count": 1,
   "metadata": {},
   "outputs": [],
   "source": [
    "# imports\n",
    "import pandas as pd\n",
    "import matplotlib.pyplot as plt\n",
    "from mylib.calculator import mean_variable, median_variable, count_variable\n"
   ]
  },
  {
   "cell_type": "markdown",
   "metadata": {},
   "source": [
    "### 📊 Results"
   ]
  },
  {
   "cell_type": "code",
   "execution_count": 9,
   "metadata": {},
   "outputs": [
    {
     "name": "stdout",
     "output_type": "stream",
     "text": [
      "The mean of variable Total_applicants is 23.\n",
      "The median of variable Total_applicants is 8.\n",
      "The count of variable Total_applicants is 811.\n",
      "The mean of variable Employee_count is 5178.\n",
      "The median of variable Employee_count is 5000.\n",
      "The count of variable Employee_count is 811.\n",
      "The mean of variable LinkedIn_Followers is 1401891.\n",
      "The median of variable LinkedIn_Followers is 270280.\n",
      "The count of variable LinkedIn_Followers is 811.\n"
     ]
    }
   ],
   "source": [
    "variable_list = [\"Total_applicants\", \"Employee_count\", \"LinkedIn_Followers\"]\n",
    "path = 'LinkedInTechJobsDataset.csv'\n",
    "\n",
    "for i in variable_list:\n",
    "    print(f\"The mean of variable {i} is {round(mean_variable(path, i))}.\")\n",
    "    print(f\"The median of variable {i} is {round(median_variable(path, i))}.\")\n",
    "    print(f\"The count of variable {i} is {round(count_variable(path, i))}.\")\n"
   ]
  }
 ],
 "metadata": {
  "kernelspec": {
   "display_name": "Python 3.8.13 ('venv')",
   "language": "python",
   "name": "python3"
  },
  "language_info": {
   "codemirror_mode": {
    "name": "ipython",
    "version": 3
   },
   "file_extension": ".py",
   "mimetype": "text/x-python",
   "name": "python",
   "nbconvert_exporter": "python",
   "pygments_lexer": "ipython3",
   "version": "3.8.10"
  },
  "orig_nbformat": 4,
  "vscode": {
   "interpreter": {
    "hash": "f2a18e7aa35240a52af99ab71370101fdc3f0f419f0b3683d6828ff1fe801d36"
   }
  }
 },
 "nbformat": 4,
 "nbformat_minor": 2
}
